{
  "nbformat": 4,
  "nbformat_minor": 0,
  "metadata": {
    "colab": {
      "name": "hackerrank - Mutations",
      "provenance": [],
      "authorship_tag": "ABX9TyOv+muIGflxGmPMMxEjxj84",
      "include_colab_link": true
    },
    "kernelspec": {
      "name": "python3",
      "display_name": "Python 3"
    }
  },
  "cells": [
    {
      "cell_type": "markdown",
      "metadata": {
        "id": "view-in-github",
        "colab_type": "text"
      },
      "source": [
        "<a href=\"https://colab.research.google.com/github/gilbertduenas/hackerrank---Mutations/blob/master/hackerrank_Mutations.ipynb\" target=\"_parent\"><img src=\"https://colab.research.google.com/assets/colab-badge.svg\" alt=\"Open In Colab\"/></a>"
      ]
    },
    {
      "cell_type": "markdown",
      "metadata": {
        "id": "1YAWeGKZHXPt",
        "colab_type": "text"
      },
      "source": [
        "https://www.hackerrank.com/challenges/python-mutations/problem"
      ]
    },
    {
      "cell_type": "code",
      "metadata": {
        "id": "-zvaK67aHR6R",
        "colab_type": "code",
        "colab": {}
      },
      "source": [
        "def mutate_string(string, position, character):\n",
        "    answer = list(string)\n",
        "    answer[position] = character\n",
        "    return ''.join(answer)"
      ],
      "execution_count": 9,
      "outputs": []
    },
    {
      "cell_type": "code",
      "metadata": {
        "id": "WVLbM1ppkLyv",
        "colab_type": "code",
        "colab": {
          "base_uri": "https://localhost:8080/",
          "height": 35
        },
        "outputId": "acdc3a34-00a3-46ff-a99c-1c69e2901dfd"
      },
      "source": [
        "string = \"abracadabra\"\n",
        "l = list(string)\n",
        "l[5] = 'k'\n",
        "string = ''.join(l)\n",
        "print(string)"
      ],
      "execution_count": 10,
      "outputs": [
        {
          "output_type": "stream",
          "text": [
            "abrackdabra\n"
          ],
          "name": "stdout"
        }
      ]
    },
    {
      "cell_type": "code",
      "metadata": {
        "id": "XOmEiefQkTVf",
        "colab_type": "code",
        "colab": {}
      },
      "source": [
        "s = 'I am the very model'\n",
        "p = 7\n",
        "c = 'X'"
      ],
      "execution_count": 11,
      "outputs": []
    },
    {
      "cell_type": "code",
      "metadata": {
        "id": "lDxrhepZmxRY",
        "colab_type": "code",
        "colab": {
          "base_uri": "https://localhost:8080/",
          "height": 35
        },
        "outputId": "b56b83d8-ddc5-4023-81be-4711eda30c9e"
      },
      "source": [
        "print(mutate_string(s, p, c))"
      ],
      "execution_count": 12,
      "outputs": [
        {
          "output_type": "stream",
          "text": [
            "I am thX very model\n"
          ],
          "name": "stdout"
        }
      ]
    }
  ]
}